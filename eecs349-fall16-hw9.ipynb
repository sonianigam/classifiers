{
 "cells": [
  {
   "cell_type": "markdown",
   "metadata": {},
   "source": [
    "# EECS 349 (Machine Learning) Homework 9\n",
    "\n",
    "## How to submit your homework\n",
    "\n",
    "1. Create a PDF document containing answers to the homework questions\n",
    "2. Include source code for the program you write\n",
    "2. If working with a partner, clearly state who you're working with **at the top of the PDF document**.\n",
    "3. Compress all of the files specified into a .zip file\n",
    "4. Name the file in the following manner, firstname_lastname_hw9.zip.\n",
    "5. Submit this .zip file via Canvas by the date specified on Canvas\n",
    "\n",
    "## You can work in pairs\n",
    "In this homework, you will work on your own **or in pairs** to complete a classification task on a dataset of handwritten digits. \n",
    "\n",
    "## The data set\n",
    "The dataset is included with this assignment (train-images-idx3-ubyte, train-labels-idx1-ubyte), and you can read more about it here: http://yann.lecun.com/exdb/mnist/ and you can read a paper that might help quite a bit here: http://yann.lecun.com/exdb/publis/pdf/lecun-98.pdf. \n",
    "\n",
    "## Scikit-learn\n",
    "You also have to install scikit-learn, a machine learning library for Python, to answer questions in this homework: http://scikit-learn.org/stable/index.html\n",
    "\n",
    "You should be running the latest stable version of scikit-learn (0.18.1,as of this writing). \n",
    "\n",
    "If you want an example of how to train and call a classifier from scikit-learn, have a look at the man page for the support vector machine.   \n",
    "http://scikit-learn.org/stable/modules/svm.html#multi-class-classification\n",
    "\n",
    "Most classifiers have similarly good documentation and are called in similar ways.\n",
    "\n",
    "For easy-to-use model selection, cross validation, etc, check out this documentation\n",
    "http://scikit-learn.org/stable/model_selection.html#model-selection"
   ]
  },
  {
   "cell_type": "markdown",
   "metadata": {},
   "source": [
    "## Reading the MNIST data\n",
    "We have given a helper file \"mnist.py\" (thanks to http://g.sweyla.com/blog/2012/mnist-numpy/) that you can use to read in the data as follows:"
   ]
  },
  {
   "cell_type": "code",
   "execution_count": 2,
   "metadata": {
    "collapsed": false
   },
   "outputs": [
    {
     "data": {
      "image/png": "[encoded data removed]",
      "text/plain": [
       "<matplotlib.figure.Figure at 0x10a9d3210>"
      ]
     },
     "metadata": {},
     "output_type": "display_data"
    }
   ],
   "source": [
    "import matplotlib.pyplot as plt\n",
    "import numpy as np\n",
    "from mnist import load_mnist\n",
    "%matplotlib inline\n",
    "\n",
    "images, labels = load_mnist(digits=[9], path='.')\n",
    "#Displaying the mean image for digit 9.\n",
    "plt.imshow(images.mean(axis=0), cmap = 'gray')\n",
    "plt.show()"
   ]
  },
  {
   "cell_type": "markdown",
   "metadata": {},
   "source": [
    "That is what 9, when handwritten, looks like on average. Changing the digits argument to a list would give you all the images that match the labels in the list (e.g. digits = [0, 1, 2] would give you all the 0s, 1s, and 2s in MNIST). Setting path = '.' makes it look for the MNIST data in the current directory."
   ]
  },
  {
   "cell_type": "markdown",
   "metadata": {},
   "source": [
    "# *1) Exploring the data (1 points)*"
   ]
  },
  {
   "cell_type": "markdown",
   "metadata": {},
   "source": [
    "To load the entire dataset, run the following:"
   ]
  },
  {
   "cell_type": "code",
   "execution_count": 3,
   "metadata": {
    "collapsed": false
   },
   "outputs": [],
   "source": [
    "images, labels = load_mnist(digits=range(0, 10), path='.')"
   ]
  },
  {
   "cell_type": "markdown",
   "metadata": {},
   "source": [
    "Here each image[i] is a single handwritten image of the label[i]. For example, here's image[35], and it's label:"
   ]
  },
  {
   "cell_type": "code",
   "execution_count": 4,
   "metadata": {
    "collapsed": false
   },
   "outputs": [
    {
     "data": {
      "image/png": "[encoded data removed]",
      "text/plain": [
       "<matplotlib.figure.Figure at 0x10e34fcd0>"
      ]
     },
     "metadata": {},
     "output_type": "display_data"
    }
   ],
   "source": [
    "i = 35\n",
    "plt.imshow(images[i], cmap = 'gray')\n",
    "plt.title('Handwritten image of the digit ' + str(labels[i]))\n",
    "plt.show()"
   ]
  },
  {
   "cell_type": "markdown",
   "metadata": {},
   "source": [
    "It's a 5!\n",
    "\n",
    "From this large dataset, you'll want to pick training and testing sets to build classifiers. To do this carefully, you'll need to study the dataset. Answer the following questions:\n",
    "\n",
    "**A. (0.5 pt)** Look at 50 examples of one of the digits. Show us some of the cases that you think might be challenging to be recognized by a classifeir. Why do you think they may be challenging?\n",
    "\n",
    "**B. (0.5 pt)**  How many images are there in total? How many images are there of each digit? You need to pick some subset of the data for training and testing. Pick a set of training and testing data. State how you selected your training and testing sets. Think about the goals of training and testing sets - we pick good training sets so our classifier generalizes to unseen data and we pick good testing sets to see whether our classifier generalizes. Justify your method for selecting the training and testing sets in terms of these goals."
   ]
  },
  {
   "cell_type": "markdown",
   "metadata": {},
   "source": [
    "# *2) Algorithm Selection (1 points)*\n",
    "\n",
    "Each classifier in scikit-learn has associated with it many hyperparameters (e.g. number of neighbors in KNN). The goal of this assignment is to understand the effect that these hyperparameters have on performance as well as how different classifiers compare to one another.\n",
    "\n",
    "You'll build two classifiers on the MNIST data. You must use scikit-learn to build these classifiers (http://scikit-learn.org/stable/). A page of particular note is: http://scikit-learn.org/stable/supervised_learning.html#supervised-learning.\n",
    "\n",
    "Two different classifiers does not mean two different variants of a classifier. For example, two KNNs with two different K values are not different. Pick two different classification algorithms (e.g. SVM and Decision Tree).\n",
    "\n",
    "Pick two classification algorithms you can use in the scikit-learn library. **For each classification algorithm**, do the following:\n",
    "\n",
    "**A. (.5 pt)** At a high level (e.g. a paragraph or two), summarize how each algorithm works and how to use it for classification of images (e.g. how you would encode the data, how you would interpret the output of the classifier).\n",
    "\n",
    "**B. (.5 pt)** For each hyperparameter of each algorithm (e.g. slack in an SVM, or K in a KNN), explain what it varies about the classification algorithm."
   ]
  },
  {
   "cell_type": "markdown",
   "metadata": {},
   "source": [
    "# *3) Classification (part 1) (2 points)*\n",
    "\n",
    "Now that you've selected two classifiers, you will build, train and test each one. Pick one of the two classifiers chosen in problem 2 and do the following."
   ]
  },
  {
   "cell_type": "markdown",
   "metadata": {},
   "source": [
    "**A. (1 pt)** Build a classifier. Complete the following starter code (see below) named **classifier_1.py**. Read all comments in the code carefully.\n",
    "\n",
    "You need to submit 4 files for this question:\n",
    "\n",
    "- classifier_1.py\n",
    "- classifier_1.p (model file)\n",
    "- training_set_1.p\n",
    "- training_labels_1.p\n",
    "\n",
    "(*.p files are 'pickle' files. 'Pickling' is a way to convert a python object into a chracter stream so that it can be saved on disk)"
   ]
  },
  {
   "cell_type": "markdown",
   "metadata": {},
   "source": [
    "**B. (1 pt)** Design, explain, and perform experiments to find the best hyperparameters for your classifier. Show the following graphs illustrating classification performance along two dimensions: \n",
    "1. Training set size vs performance on a testing set\n",
    "2. Classifier parameters (e.g. number of neighbors in KNN) vs performance on a testing set\n",
    "Describe and analyzise your result.\n",
    "3. Show us a confusion matrix for the data.\n",
    "Be sure to label your dimensions clearly on all graphs.\n"
   ]
  },
  {
   "cell_type": "markdown",
   "metadata": {},
   "source": [
    "# *4) Classification (part 2) (2 points)*\n",
    "\n",
    "### Repeat the same tasks from question 3 with the other classifier you described in question 2.\n",
    "\n",
    "For Part (A), you the code you hand in must be in files with the following names:\n",
    "- classifier_2.py\n",
    "- classifier_2.p (model file)\n",
    "- training_set_2.p\n",
    "- training_labels_2.p"
   ]
  },
  {
   "cell_type": "markdown",
   "metadata": {},
   "source": [
    "# *5) Visualizing misclassifications (1 points)*"
   ]
  },
  {
   "cell_type": "markdown",
   "metadata": {},
   "source": [
    "Visualizing misclassifications can sometimes help understand the behavior of a classifier. Show a set of images that were misclassified by each of your two classifiers. Report how it affects your understanding of the behavior of the classifier, or the dataset. How does this relate to the images you thought might be challenging in the section \"Exploring the dataset\" above?"
   ]
  },
  {
   "cell_type": "markdown",
   "metadata": {},
   "source": [
    "# *6) Model comparison (1 points)*\n",
    "\n",
    "Compare your two classifiers. Which classifier performed better? Back up that assertion by citing results from your experiment. Why do you think this classifier has better performance?  "
   ]
  },
  {
   "cell_type": "markdown",
   "metadata": {},
   "source": [
    "# *7) Boosting (2 points)*"
   ]
  },
  {
   "cell_type": "markdown",
   "metadata": {},
   "source": [
    "Boosting is a way to improve classification performance by combining classifiers. Perform the adaboosting algorithm on your training and testing set by using the AdaBoostClassifier function in sckit-learn.\n",
    "\n",
    "Answer the following questions and submit a python script named **boosting.py** that includes two functions, boosting_A( ) and boosting_B( ). Each function takes a training and a testing set and their labels, and returns predicted labels and confusion matrix. Since we deal with 10 classes (0 - 9), the confusion matrix should be a 10x10 array."
   ]
  },
  {
   "cell_type": "markdown",
   "metadata": {},
   "source": [
    "** A. (0.5 pt)** Try adaboosting with a weak classifer (default classifer of the AdaBoostClassifier function). Include a confusion matrix in your write-up. Does the boosting outperform classifers you built in the question 2?\n",
    "\n",
    "** B. (0.5 pt)** Try adaboosting with an SVM classifier. Before performing boosting, you might need to find best hyperparameters for the SVM first. Include a confusion matrix in your write-up. Does the boosted classifier outperform the classifers you built in question 2?\n",
    "\n",
    "** C. (1 pt)** Compare two boosted classifiers, one from **A** and the other from **B**. Which one is better? How did you compare their performances? Show us data."
   ]
  }
 ],
 "metadata": {
  "kernelspec": {
   "display_name": "Python 2",
   "language": "python",
   "name": "python2"
  },
  "language_info": {
   "codemirror_mode": {
    "name": "ipython",
    "version": 2
   },
   "file_extension": ".py",
   "mimetype": "text/x-python",
   "name": "python",
   "nbconvert_exporter": "python",
   "pygments_lexer": "ipython2",
   "version": "2.7.10"
  }
 },
 "nbformat": 4,
 "nbformat_minor": 0
}
